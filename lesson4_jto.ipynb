{
 "cells": [
  {
   "cell_type": "code",
   "execution_count": 35,
   "metadata": {},
   "outputs": [],
   "source": [
    "import tensorflow as tf\n",
    "#gpu_options = tf.GPUOptions(per_process_gpu_memory_fraction=0.3333)\n",
    "#sess = tf.Session(config=tf.ConfigProto(gpu_options=gpu_options))\n",
    "\n",
    "config = tf.ConfigProto()\n",
    "config.gpu_options.allow_growth=True\n",
    "sess = tf.Session(config=config)\n",
    "\n",
    "import os\n",
    "os.environ[\"CUDA_DEVICE_ORDER\"]='PCI_BUS_ID'\n",
    "os.environ[\"CUDA_VISIBLE_DEVICES\"]='2'\n",
    "\n",
    "import keras\n",
    "from keras.models import Model\n",
    "from keras.layers.normalization import BatchNormalization\n",
    "from keras.layers.core import Dense, Lambda, Flatten\n",
    "from keras.optimizers import Adam, sgd\n",
    "from keras.layers import Input, Embedding, Reshape, merge, LSTM, Bidirectional\n",
    "from keras.layers.embeddings import Embedding\n",
    "from keras.regularizers import l1, l2\n",
    "\n",
    "import pandas as pd\n",
    "import numpy as np\n",
    "\n",
    "#if 'session' in locals() and session is not None:\n",
    "#    print('Close interactive session')\n",
    "#    session.close()\n",
    "\n",
    "path = \"D:\\\\jtownend\\\\fast.ai\\\\data\\\\movielens\\\\\""
   ]
  },
  {
   "cell_type": "code",
   "execution_count": 28,
   "metadata": {
    "collapsed": true
   },
   "outputs": [],
   "source": [
    "ratings = pd.read_csv(path+'ratings.csv')\n",
    "movie_names = pd.read_csv(path+'movies.csv').set_index('movieId')['title'].to_dict()\n",
    "\n",
    "users = ratings.userId.unique()\n",
    "movies = ratings.movieId.unique()\n",
    "n_users = ratings.userId.nunique()\n",
    "n_movies = ratings.movieId.nunique()\n",
    "\n",
    "#replace the user and movie IDs with contiguous integers\n",
    "userid2idx = {o:i for i,o in enumerate(users)}\n",
    "movieid2idx = {o:i for i,o in enumerate(movies)}\n",
    "ratings.movieId = ratings.movieId.apply(lambda x: movieid2idx[x])\n",
    "ratings.userId = ratings.userId.apply(lambda x: userid2idx[x])\n",
    "\n",
    "#divide randomly into train and validation sets\n",
    "np.random.seed = 42\n",
    "msk = np.random.rand(len(ratings)) < 0.8\n",
    "trn = ratings[msk]\n",
    "val = ratings[~msk]\n",
    "\n",
    "#set number of latent factors\n",
    "n_factors = 50"
   ]
  },
  {
   "cell_type": "markdown",
   "metadata": {},
   "source": [
    "## Dot product"
   ]
  },
  {
   "cell_type": "code",
   "execution_count": 58,
   "metadata": {},
   "outputs": [],
   "source": [
    "user_in = Input(shape=(1,), dtype='int64', name='user_in')\n",
    "u = Embedding(n_users, n_factors, input_length=1, W_regularizer=l2(1e-4))(user_in)\n",
    "movie_in = Input(shape=(1,), dtype='int64', name='movie_in')\n",
    "m = Embedding(n_movies, n_factors, input_length=1, W_regularizer=l2(1e-4))(movie_in)\n",
    "\n",
    "x = merge([u, m], mode='dot')\n",
    "x = Flatten()(x)\n",
    "model = Model([user_in, movie_in], x)\n",
    "model.compile(loss='mse', optimizer=Adam(0.01), metrics=['accuracy'])"
   ]
  },
  {
   "cell_type": "code",
   "execution_count": 60,
   "metadata": {
    "scrolled": true
   },
   "outputs": [
    {
     "name": "stdout",
     "output_type": "stream",
     "text": [
      "Train on 80084 samples, validate on 19920 samples\n",
      "Epoch 1/4\n",
      "80084/80084 [==============================] - 6s - loss: 2.9582 - acc: 0.2762 - val_loss: 3.5573 - val_acc: 0.2539\n",
      "Epoch 2/4\n",
      "80084/80084 [==============================] - 6s - loss: 2.8840 - acc: 0.2828 - val_loss: 3.4992 - val_acc: 0.2536\n",
      "Epoch 3/4\n",
      "80084/80084 [==============================] - 6s - loss: 2.8227 - acc: 0.2906 - val_loss: 3.4855 - val_acc: 0.2560\n",
      "Epoch 4/4\n",
      "80084/80084 [==============================] - 7s - loss: 2.7775 - acc: 0.2928 - val_loss: 3.4578 - val_acc: 0.2556\n"
     ]
    },
    {
     "data": {
      "text/plain": [
       "<keras.callbacks.History at 0x247e54a9dd8>"
      ]
     },
     "execution_count": 60,
     "metadata": {},
     "output_type": "execute_result"
    }
   ],
   "source": [
    "model.fit([trn.userId, trn.movieId], trn.rating, batch_size=64, nb_epoch=4, \n",
    "          validation_data=([val.userId, val.movieId], val.rating))"
   ]
  },
  {
   "cell_type": "code",
   "execution_count": 61,
   "metadata": {
    "collapsed": true
   },
   "outputs": [],
   "source": [
    "model.optimizer.lr=0.001"
   ]
  },
  {
   "cell_type": "code",
   "execution_count": 62,
   "metadata": {},
   "outputs": [
    {
     "name": "stdout",
     "output_type": "stream",
     "text": [
      "Train on 80084 samples, validate on 19920 samples\n",
      "Epoch 1/3\n",
      "80084/80084 [==============================] - 6s - loss: 2.7462 - acc: 0.2954 - val_loss: 3.4222 - val_acc: 0.2560\n",
      "Epoch 2/3\n",
      "80084/80084 [==============================] - 6s - loss: 2.7214 - acc: 0.2973 - val_loss: 3.4220 - val_acc: 0.2559\n",
      "Epoch 3/3\n",
      "80084/80084 [==============================] - 6s - loss: 2.7115 - acc: 0.2976 - val_loss: 3.4147 - val_acc: 0.2596\n"
     ]
    },
    {
     "data": {
      "text/plain": [
       "<keras.callbacks.History at 0x247e54da390>"
      ]
     },
     "execution_count": 62,
     "metadata": {},
     "output_type": "execute_result"
    }
   ],
   "source": [
    "model.fit([trn.userId, trn.movieId], trn.rating, batch_size=64, nb_epoch=3, \n",
    "          validation_data=([val.userId, val.movieId], val.rating))"
   ]
  },
  {
   "cell_type": "markdown",
   "metadata": {},
   "source": [
    "## Introduce bias to improve result"
   ]
  },
  {
   "cell_type": "code",
   "execution_count": null,
   "metadata": {
    "collapsed": true
   },
   "outputs": [],
   "source": []
  }
 ],
 "metadata": {
  "kernelspec": {
   "display_name": "Python 3",
   "language": "python",
   "name": "python3"
  },
  "language_info": {
   "codemirror_mode": {
    "name": "ipython",
    "version": 3
   },
   "file_extension": ".py",
   "mimetype": "text/x-python",
   "name": "python",
   "nbconvert_exporter": "python",
   "pygments_lexer": "ipython3",
   "version": "3.5.0"
  }
 },
 "nbformat": 4,
 "nbformat_minor": 2
}
