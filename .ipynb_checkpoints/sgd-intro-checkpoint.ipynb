{
 "cells": [
  {
   "cell_type": "markdown",
   "metadata": {
    "toc": "true"
   },
   "source": [
    "# Table of Contents\n",
    " <p>"
   ]
  },
  {
   "cell_type": "code",
   "execution_count": 1,
   "metadata": {},
   "outputs": [],
   "source": [
    "%matplotlib inline\n",
    "import math,sys,os,numpy as np\n",
    "from numpy.random import random\n",
    "from matplotlib import pyplot as plt, rcParams, animation, rc\n",
    "from __future__ import print_function, division\n",
    "from ipywidgets import interact, interactive, fixed\n",
    "from ipywidgets.widgets import *\n",
    "rc('animation', html='html5')\n",
    "rcParams['figure.figsize'] = 3, 3\n",
    "%precision 4\n",
    "np.set_printoptions(precision=4, linewidth=100)"
   ]
  },
  {
   "cell_type": "code",
   "execution_count": 2,
   "metadata": {
    "collapsed": true
   },
   "outputs": [],
   "source": [
    "def lin(a,b,x): return a*x+b"
   ]
  },
  {
   "cell_type": "code",
   "execution_count": 3,
   "metadata": {
    "collapsed": true
   },
   "outputs": [],
   "source": [
    "a=3.\n",
    "b=8."
   ]
  },
  {
   "cell_type": "code",
   "execution_count": 4,
   "metadata": {
    "collapsed": true
   },
   "outputs": [],
   "source": [
    "n=30\n",
    "x = random(n)\n",
    "y = lin(a,b,x)"
   ]
  },
  {
   "cell_type": "code",
   "execution_count": 5,
   "metadata": {},
   "outputs": [
    {
     "data": {
      "text/plain": [
       "array([ 0.438 ,  0.4913,  0.2706,  0.4943,  0.3338,  0.2868,  0.5708,  0.4092,  0.333 ,  0.8981,\n",
       "        0.9397,  0.786 ,  0.8799,  0.4577,  0.5288,  0.7108,  0.5625,  0.8676,  0.7405,  0.1183,\n",
       "        0.2284,  0.2971,  0.6419,  0.8263,  0.9541,  0.3089,  0.7825,  0.8627,  0.88  ,  0.6886])"
      ]
     },
     "execution_count": 5,
     "metadata": {},
     "output_type": "execute_result"
    }
   ],
   "source": [
    "x"
   ]
  },
  {
   "cell_type": "code",
   "execution_count": 6,
   "metadata": {},
   "outputs": [
    {
     "data": {
      "text/plain": [
       "array([  9.314 ,   9.4738,   8.8117,   9.4828,   9.0014,   8.8603,   9.7124,   9.2277,   8.9991,\n",
       "        10.6944,  10.8191,  10.3581,  10.6397,   9.3731,   9.5864,  10.1325,   9.6875,  10.6028,\n",
       "        10.2215,   8.3549,   8.6851,   8.8914,   9.9257,  10.479 ,  10.8623,   8.9266,  10.3476,\n",
       "        10.588 ,  10.6401,  10.0659])"
      ]
     },
     "execution_count": 6,
     "metadata": {},
     "output_type": "execute_result"
    }
   ],
   "source": [
    "y"
   ]
  },
  {
   "cell_type": "code",
   "execution_count": 7,
   "metadata": {},
   "outputs": [
    {
     "data": {
      "text/plain": [
       "<matplotlib.collections.PathCollection at 0x1f1ba3f3048>"
      ]
     },
     "execution_count": 7,
     "metadata": {},
     "output_type": "execute_result"
    },
    {
     "data": {
      "image/png": "[encoded data removed]",
      "text/plain": [
       "<matplotlib.figure.Figure at 0x1f1b982d048>"
      ]
     },
     "metadata": {},
     "output_type": "display_data"
    }
   ],
   "source": [
    "plt.scatter(x,y)"
   ]
  },
  {
   "cell_type": "code",
   "execution_count": 8,
   "metadata": {
    "collapsed": true
   },
   "outputs": [],
   "source": [
    "def sse(y,y_pred): return ((y-y_pred)**2).sum()\n",
    "def loss(y,a,b,x): return sse(y, lin(a,b,x))\n",
    "def avg_loss(y,a,b,x): return np.sqrt(loss(y,a,b,x)/n)"
   ]
  },
  {
   "cell_type": "code",
   "execution_count": 9,
   "metadata": {},
   "outputs": [
    {
     "data": {
      "text/plain": [
       "9.3961"
      ]
     },
     "execution_count": 9,
     "metadata": {},
     "output_type": "execute_result"
    }
   ],
   "source": [
    "a_guess=-1.\n",
    "b_guess=1.\n",
    "avg_loss(y, a_guess, b_guess, x)"
   ]
  },
  {
   "cell_type": "code",
   "execution_count": 10,
   "metadata": {
    "collapsed": true
   },
   "outputs": [],
   "source": [
    "lr=0.01\n",
    "# d[(y-(a*x+b))**2,b] = 2 (b + a x - y)      = 2 (y_pred - y)\n",
    "# d[(y-(a*x+b))**2,a] = 2 x (b + a x - y)    = x * dy/db"
   ]
  },
  {
   "cell_type": "code",
   "execution_count": 11,
   "metadata": {},
   "outputs": [],
   "source": [
    "def upd():\n",
    "    global a_guess, b_guess\n",
    "    y_pred = lin(a_guess, b_guess, x)\n",
    "    dydb = 2 * (y_pred - y)\n",
    "    dyda = x*dydb\n",
    "    a_guess -= lr*dyda.mean()\n",
    "    b_guess -= lr*dydb.mean()"
   ]
  },
  {
   "cell_type": "code",
   "execution_count": 12,
   "metadata": {},
   "outputs": [
    {
     "data": {
      "text/html": [
       "<video width=\"500\" height=\"400\" controls autoplay loop>\n",
       "  <source type=\"video/mp4\" src=\"data:video/mp4;base64,AAAAHGZ0eXBNNFYgAAACAGlzb21pc28yYXZjMQAAAAhmcmVlAABOpm1kYXQAAAKvBgX//6vcRem9\n",
       "5tlIt5Ys2CDZI+7veDI2NCAtIGNvcmUgMTQ2IHIyNTM4IDEyMTM5NmMgLSBILjI2NC9NUEVHLTQg\n",
       "QVZDIGNvZGVjIC0gQ29weWxlZnQgMjAwMy0yMDE1IC0gaHR0cDovL3d3dy52aWRlb2xhbi5vcmcv\n",
       "eDI2NC5odG1sIC0gb3B0aW9uczogY2FiYWM9MSByZWY9MyBkZWJsb2NrPTE6MDowIGFuYWx5c2U9\n",
       "MHgzOjB4MTEzIG1lPWhleCBzdWJtZT03IHBzeT0xIHBzeV9yZD0xLjAwOjAuMDAgbWl4ZWRfcmVm\n",
       "PTEgbWVfcmFuZ2U9MTYgY2hyb21hX21lPTEgdHJlbGxpcz0xIDh4OGRjdD0xIGNxbT0wIGRlYWR6\n",
       "b25lPTIxLDExIGZhc3RfcHNraXA9MSBjaHJvbWFfcXBfb2Zmc2V0PS0yIHRocmVhZHM9MTggbG9v\n",
       "a2FoZWFkX3RocmVhZHM9MyBzbGljZWRfdGhyZWFkcz0wIG5yPTAgZGVjaW1hdGU9MSBpbnRlcmxh\n",
       "Y2VkPTAgYmx1cmF5X2NvbXBhdD0wIGNvbnN0cmFpbmVkX2ludHJhPTAgYmZyYW1lcz0zIGJfcHly\n",
       "YW1pZD0yIGJfYWRhcHQ9MSBiX2JpYXM9MCBkaXJlY3Q9MSB3ZWlnaHRiPTEgb3Blbl9nb3A9MCB3\n",
       "ZWlnaHRwPTIga2V5aW50PTI1MCBrZXlpbnRfbWluPTEwIHNjZW5lY3V0PTQwIGludHJhX3JlZnJl\n",
       "c2g9MCByY19sb29rYWhlYWQ9NDAgcmM9Y3JmIG1idHJlZT0xIGNyZj0yMy4wIHFjb21wPTAuNjAg\n",
       "cXBtaW49MCBxcG1heD02OSBxcHN0ZXA9NCBpcF9yYXRpbz0xLjQwIGFxPTE6MS4wMACAAAASW2WI\n",
       "hAA///73aJ8Cm1pDeoDklcUl20+B/6tncHyP6QMAAAMAAAMAJAL8x7+hB0M0IAAAUInP4LJXTUFR\n",
       "Bq1ViRE7nmVugr3qHwjjbq4yqtZnH2dD/PRH4qMF3383q0XiC6K7q89B8NNF+yB4lSsc8GA2Q9EM\n",
       "SZo46MPVl5rm6Gw5AAO/HK1aGuhqffgFjwkCUJQCNBrg79YgwAy0acTF+erj+pdiOFkZNl9NtNfR\n",
       "Akc5nF56BzyCtirY1dd3Y+iYb88DWmIAPVa17e0hqkkV4tMI5igK5yLrVKxlK8ag8/ctR6TSAUgq\n",
       "JDM6AY0JbjuZmVJ6bQBJp+lJtC/EheWmcQOkMLRV9ko8TqkFtDZ2Tv/jOBtAge7dsGtXNJNVuIce\n",
       "yGdGOK5wv+wBm6frrHfULFYLOwVOCr8bzamQdmE+SFuV5ey7LYqqS9F2hcn/KKMQIAIyv+OO4qje\n",
       "MT1GGwZlaU0wr8K38cZJIOjN//GCKAfH/frx1c5aN9JEjlQRwBg3sPJZt/vulFxyzHBNFjhUFKwI\n",
       "Pkx1PzMF0ssO7QmWH0GpWajHNUpZXOTEaQbSLpUnucG3+nURLetDz4JpT0WZD67XNapXzmVoq1id\n",
       "GF7VhiWt2St6GINpzR/q9ZhMZ7PziYktBavwczZwYk6ZC6q/trJ6IvKZsEYscd5VSZ4G2qvh9cQa\n",
       "LjNQe6xUOyC84zv6WDeGR1ho5UUlbupe8MwK6UE4PhF7GNuqHgfz2oM2wR4bmEp/FyTly8+m7Rlm\n",
       "aTZODaMV33hem0oFt8vPdobvB1MupCt7aUTR8wZWhdhP7dPVEZB56tOZDKoz8V3Z/qYFaScp7FZY\n",
       "+ebHNDAtVPwEikoDS3S8tN1TIvVHUDKPqPKaB/2T2P/7z5J3zbZ4o3gZZipvx/bOSzmQKVVbDPi9\n",
       "IvbgV4MuE/roy0TtaNoZmp/U+LWDn+w9kKMyMnOubD0Os/4gz2aMxm2jsFwSjbHS3axuaD9TOVVq\n",
       "aXETXLsf05zmKgHWXyDTJOJ5edrDhzEhmyWeFc2e4qCh3dmdd0eR8apS35nVEng8lWIu0DTAVtlG\n",
       "z5uGmQDVruWnqXjMeZb8xXtPth4tuzapG4n5z/4lxIvP9UVTfhPBgurUxOCt7iB7nZnC9vTCX5GH\n",
       "B0MR6LF2HzZONBBN7gXcJnMJvYt5yPsOxJrIrvOesjABbhVhFVWfekFBM9ta70KaTaKCQaQG5jeM\n",
       "DW+5qmZNTgC45/1UQAHzPK7JXtcuPoV3CjBviin7e9ug/q9MKRzXb1cnLA48337PT/d1BcjmlpbF\n",
       "rbrTJJPWCf2caQ7B8peEMNrx3VtWjkTvfezu5VzfI6abEObpAvag6Wru8QRfJ52Z4V0+j48IggSN\n",
       "BrsmKO4J95MXhahr5K6dzfilDe00ttpPjJQkZp2nAHg9NmSg+IdwRrsLsoha3n2YvIWgz2YtKjXl\n",
       "WxIZla3leDrNLuJ2poK5x8BjjHfk8BrkCMxIyMbpm60sy2X7IOBbcexheSFOm/qc85/TCGM5jV6D\n",
       "fDZbv9Jt5/vddU/IEd2qB7urmGRo2bNZC5CHmKCFn2pxYcH1miEsAwANaUYKRVTgUyL4sKcQPSbK\n",
       "O3QZBXH8oI8RR7htijBdzcF6fmyCbdQmfzo/JPFo5nO8LtmpUYqcXAoW6UXMql/lY6P/k0MZTEnK\n",
       "zdY0BtSWRdYDazVSo//mw3IsV+NL4BzRazhjaZHrwnJwCNH4MzA47iNpC5Ft6cDGpVVcYUfHdCDz\n",
       "QUqcX0vPnpCSTEKLV0WVDYPFEWE/nCbKx+M6afdzjBMh2+Xrm0znXH80V6+iRrPI9CKkeSBRTWGO\n",
       "OjEpaicIETrbNhJBzi1mLY2ZixzXCQzbbTbZJHb7ugO/WGBW52omy57C3ntasQ/n/LjxyieGCN/e\n",
       "/yJmUjoAqF2yVVN0sjFTkrWKlPfsyNMwvyKXtL+EOv05A0vEfMr1Y1SZuIpT6rsojNWO2QMfSMtm\n",
       "ciaDMfnD3my+FAiK4H3JIy6yxEyDJwXGysOMsbf1Q0deVJRx2rA3M5+zr5m9m4zD64n/AAIc37E5\n",
       "OiNUlBcA+93IO1KFMW7CPz1tI1KELrQXyD0mw1rjfq0RnIAyB2ra74a/I9NSRYFKvat5/syEzoZd\n",
       "eTjuvQeYuLG7EPQjwbxsmkSuiHKTCCbYgTqwytp4NgwXs04FCtiI+UWVIXh3dK6Njg4o4UKXOfLJ\n",
       "bj5TZs88ECZhXdYMthZ6iG4JJadFsqsvX91DJ+1jC5n8R1/Ajg3bwipyika4q+ZtSRLc9NtnWDu4\n",
       "rED2SnAT1V/gDKw0ZuvYVaPwSTFjwnRpWeOwoayxVtTZ9rJbtv33ssa0nY0QZklF6VSumC1zolKt\n",
       "HQxJ6eBDILdsTnXwB/RY0Lz9ZLAV8rb2bHJiDGjkgHs6YdU4ersAtfXOSH2JQqkfWHKPczg5Up8y\n",
       "+WFZqnDuK8Yw/Nx6CEhkjfMERjRoMa5Zm4BqsGpfggXm87lom+2NqvYKF1IXtj2YEcfinOXCBgLi\n",
       "1F82fUX+x0m7oTtB2BHIte4XvHaWlQvi5fQ2qrWB7QfGtpeH4aHFAzUjO1sfJScJTmwPFPtTIOc4\n",
       "sfSzn7w4928iw98XRrj7DLhVwsYs9HHt/QnON9B8gkQTV63yYfXysTtR3QYbAB+j5oP6qTwPi8bE\n",
       "+oZFZgeNf42pVcb63y6AfQi/7I1YTHio2Owxuij2HiDXM6n1GjlQAP0bp89L/Axhmi4ljZk1seV6\n",
       "MMRlS7UBdLM8dM0OV/8vMkrgeq9Gx0TGuBU5eWU5m3dCDJYdUAeLEZ9VgrpbVkQJm6XLLlXt7nXK\n",
       "u6MloGgyeiViqL62DlwZ5t2WJtoB6Fx9i9s7vfXP3WfzdJKMmpp8hQCxFI9JyApQIVZb1r1qAp8X\n",
       "wLh9s3uIk3eIGMZImsw7EDjJjrIFuRQxQmOM6tBKzMF3Gpllk7Z/tuuCZ4S81s7ecEw9L/QT4afq\n",
       "tFWAuyEs/K+IQwWNvebvn8JrvOf3oPUoX3tVXieVEM3WUkixwfUHiK46M6zKB40TpX8RKSVjTXbb\n",
       "eg5VMgYbaWStO/hybhEKK14gVmG6w8IQsWdPKf7USNA1A6TjT/SAt38c8WZfm7/mcunuKkRsbrjK\n",
       "1Dso/HtMtqtbgmnTPootdEXaC1ze2tu6lS5FxgBzvlNE/sMt9lwxHzZHbVZ3KXpRwBQJcspZ9Az8\n",
       "G6A7m05IbUrxfmTB/LL36ufWjdIZdPz1mIHYSFNdzA8QZp1iZ7DIAztPSu0BVYRDYg98bdWjK5og\n",
       "xLZhxUlIsMbk+T7mVkA1POj9A1h1tQISTHJBxpdgf6qLJ4U4KSmqX/HdgVUGINLR36g91Ce7OIaL\n",
       "vhah/XKJl8EUQMfv5bo5wBMYhZRcz4fzmX32fbO/WSbk/vfmZ/auodWzbZJQ1xR+qSU+7xuDJO4Y\n",
       "pJmTB9AFoyCGUaJR6RfPIdmGmtr5kHFigtRnoHssFbm4dBz8DA/5kT4GbQCwvxeMdqJBaYPPq+gF\n",
       "eAw7mnPd2vXDwbeAOW0y0Oq49Tkguvd4jeI6NSFPQ86NYMLH5svB2kAle49u33UeMUFinVk6yIKP\n",
       "hGmfI8vLlDCnUZt/u+dLSJwSdguf0PLlpUm7fenuE9BLNzhRD3zRxhfVelvgxXNkFnFHWJ5Ves2I\n",
       "AgcHRpx9tsp5bHCg6sA40nqyQWA1/sZAABdRRshDCG5PfM1GDl4gjWixidHantP9FFbVkwQd1RNf\n",
       "zMx1OV6G5z1mRnIgQWFNC1W73s+aKjg49BITrpBSZChg/fv7jWRNHGZulkiQl9NHVGF3NDU2Syou\n",
       "qEWgoUQPvDRynLsb81x01CBr/sAuR4OmDbcl52DRV8YidquNrdU7wMdQtKje1kDp3xMcy30TTcfp\n",
       "qOHOk/casvXy8G4wp6knQrNBMAr3CHDzjAJegFCC2E5gWu8yANVa8Tixu043TD4DlkwnnKEz8qLO\n",
       "Noyteg1hCi4cDOAE8tvy14AklTPv9FSz6MI7PnPflTR/pbl91PnjDvd3YWYpstNPhV35Pn5anGPl\n",
       "QAyz9Am90pFSQKq9NA4oPPzOHhRzrFtSz7qMQiIN0NxgjsdlwcP+JF56BxTeDUZ74NJQgzAsRvHK\n",
       "ozKyWtiXBhH5Tf6j8P09+IuqYK/9oRBodFT9zUTe4CuqVVZjlJQyKGhztyJHhy9HVFWXmvqv047Z\n",
       "HKCmvm1krAKzX12qga92OyX97xejkhczz6WXw/HjDcXu+o+Da2mXLZyAnyq7V5JzuFSSVZN+A2Ok\n",
       "5BdoqnGpSUbpHZiFk0ZOshCqprzZG+e5oaburer32q2v4OsabCKVsZB/dEgmr/7jsB5/9jydAnt/\n",
       "2AFlxITiiV/16ypV1geKHVZeEkCfBdW3HHAo2izloNHJZ/4tvwsofig8UvXBWCZDquPP9S2jAUhc\n",
       "FdKep6j6YgQ8qEIO8OsWjuj8hxqkbZ4WvzmxShLMaFhSpv/7q9lO142sYyC1uSMKOGTD1tNZe/+5\n",
       "tU/IpkfCRWLtY9+qIsUtqubn55B5IAACg63vFyclMxclbbEfPFmeOXEY0y+vUQ4mnC7GXJV4HnAh\n",
       "UTF5Qh6rCSN96Q6ew38i/BsHyam0DfU2iAAAAwA3FUqgIn76H8eW7fUquLYIUK+V1UZLNvH7ZXZo\n",
       "pbqOUfnc8W06xtJJAfwEkPEmOov8I+lhKGBBn6WWeFnHSIg9R6MyTx+qtULzDdiQrURwYdKtdfzZ\n",
       "H03wJ9PHWo5B1mgCiypkQ6zWlskHcn1qIn22MCs9apS5U1ppbA6XTGkp4klavu7GGAFVX4kIWbbt\n",
       "PouI/8yUi+nzZ0ZMx3z17lZ3eJvxkJyBrFcTOH148bMqXu9VBrK0c1gyytwTv6qINomQ72okNYFq\n",
       "NfGQK3iVxbV7lXAjnNUQiTOSFqYviJKW7+15YUMJEI1RzWuTps5PyUHIMiUmUsxzgxHqsz5d8LfK\n",
       "ZcIADxHIGColneTcnygDITgdke3uur0hH3+AKrHuKL7STfNI+imlUZvMNxlpAsmI37CXH0zPwP9A\n",
       "eXAYoYC2nnvxgKGWZI31t8sBcZDU/jnQzYJlnSVbHZFn0lJyA4OFlzDrdVBeg6a13H/K2H2z8cEQ\n",
       "oSL7/aRBqDEPms3SB5wwYtG2t9UacoIHmlFAsGhqNwjgAqeLVCyS3h0F9/yE0ARbXhRUyp8962dz\n",
       "fukugxLJ43UjeUyix7wfeVFoQ0Kwfn4KAUKRBd+dyF2gtrzHzSsFN3qFYjCmxXeR43JVG+A4TtvI\n",
       "D+iZvzVgvihVPJIMX/WWM1RtWqj1gf/vsfM6efCTzmBcMDwTctLaYw3TwV0U9KU4TX2sx1cKVbvQ\n",
       "ZX1eExDcGw1cPK8EmP15yzs1IBFsdpMw75XfhynJVUw/AkAswg3i5cOq0eOER3qejKLKSbZxcSNJ\n",
       "KcHCwVRAAt/+zlZvM32dYv9n4TZK8+5aDNUI4eeL5ixiggc6w1cfjDVarLrjMXlZdydCvkfPFwoF\n",
       "HgrAhJgnXPyQ+x2l4bHopNmr5sn/48GQO6y1zh5rGtltr7Ahg2dcAATEqTO33vdnvDQHzEAFe56v\n",
       "vgqcuZo3acrf4dNgxP/u9/b/8/qArmcz8YqWRIcR97hpQZXIsmbjCgmJJ/bYed7cucd3W3UDklmX\n",
       "XGD9pWwJxzy+BwbCTFpb0hhWu/8v2iOKFoN9K8kGAh4kXYZTF7OzNuQNOtztr9OEZ4yISRu8m1q5\n",
       "QmBDJrshiRyQ21lztL3qIau5ocBeQcY7sVwAx/9j5QPaU81+54PJ8G5wA2aY2OAC2AAAE8hkfZ1M\n",
       "j+S4bqFf4oTcPSm2HGiABHgpaQ3MMHfkIujeFvk4ml8m2mp0yeRywCMKavXYaeaA47OOlpln1ecF\n",
       "i0CYsEq/CEZ9i/GR9GCfnpbDbarc0xqMW8acIjoPqmTLWo5mugzfV1DvxQwN8wtGQtLUThZbnC4q\n",
       "wqEax1QXkUjJdzkNvKijq4fTHdinI7p/CPiZ+DXEsw5/KJI/UsI0oBc3T3wqqW5n5aI92g67O+17\n",
       "SX4Mt5tcmGP5qZwnBeDTZ1hWHLC2unpjjck6MQNTr6jn+EA1ozvolPqljhKEvM15JGO0oORjQa4n\n",
       "FoshV3EtlAhffhUsuav/DgH3MHnpg7l8fBDa1R8x2O6s6OLOfyf3icdeB7qlnjpO1nn5kDviEmqq\n",
       "wTFqN91EFwmqtUVFt57A96N+Y7iADuTkCdYqSjG/5sTxhbFIdibl/ekTPWYV+q1/g6iNTVJwFx4+\n",
       "G5WS90V4vCNbpj/ITQimVHydIAAAIOEAAAJtQZohbEP//qmWABKG0F8AQ7pPK2hH6uhhFFLca8PR\n",
       "ZgIvTgPu17aoqz0rqPE5rGORV0WaMTfNPHp1wl2DHS1jC4ugfhCyf1bOsf4eZAaRjQb2efFYRLo1\n",
       "bujBumMAEogSjIihnfEqc6n7pV0S0ez2B0no6P27kq7YNiQN/fkuFzbsrMnGIiVRaAvXrRxOLDT7\n",
       "Fm+SdRn2bTkCNrY5qaRID00zaLrdHFRiPCVDd4Ygca9raXqThwMjzUNZDEA616hCPmSISJ+zhFqC\n",
       "pHQpWyJZM8jk+9rl/d6D+5+gmTGtZa6zeYbSHzVrZft5Z1toWUhsWZwcuOXKB0+CRYHPneSET6eO\n",
       "ThNzk/+I+QJkEC7bpDLqcr8aPmy/sTQtqIrt45RhPGi7O+LVmiGwl4xGA0Ux+BPTU3kux8IMuVVU\n",
       "fbK2uaiJ1S6mzQeOP2M42RLwGia/X9jYL0ufawRK/SwtbhKHUfIIk3OtbJWCiTJ+D1nNhfJzZ5hZ\n",
       "c7l9GKJ+1SrovjJi8ZG8JK7pd9HjyV8VAT7Vl6/ueRCvxUbkLeZGXld97SIBHDcCYmx/y3+T+nKU\n",
       "awmvgKlCAgtf8Tyc4/ynNYyeefXy4xPidQvGyl5vyuRbfI5GkJDWuE+ZSq1WrgAAAwBs3zcVVPfY\n",
       "MNo8iqMO2l80VHFBgvyuekO0D25DFj2VVVVCjwDzORfu+YGsl2WJo/1hvB+pYXM7LpZW+6d8VSdI\n",
       "cmMnsHIkOK/7MpcaHEDv2j7k4mWhT1uOVJCLggIAAAMAACLgAAAeawgNjxOsDvaQhx/VI1GdA8Bp\n",
       "WGEf3/9R9XfsxagX+jzwlpK49OqAAAADPkGaQjwhkymEP//+qZYAATCbiF8AM/W/X9CdE3+6f4J0\n",
       "pO7+nw5Ef2um5nL4ganXtL1QQyhA2l6XU2cUj7t0Y8umYedKI6TMnoQFktuU9WJwsrhAbybtoh8q\n",
       "c/zWGDFsp80nfMcfdVeZvp5UXDmr8GisWsYBVPV2/N0tjNOq40IF5hn0vITkIBmnInsxxVjVRS6t\n",
       "ODdsV1dDCwNy2C5J6IsL0UVw+FYpK4Rz1UnjWXwEFUaTbf2sK8fHELQjvf/IbaSi8gR8rg0Cmh18\n",
       "sYdEUnxrzALtbelj+eqBgNyJjSpfE2MDfoUJ4k1X5sHMZMEZFC4XYNXS/t4runPCVUpHM1n4WW1H\n",
       "4V4/8by6lghMuv8EMz/otRlWPD0btieC2qilavfLUXllNry2VoZKDiDUicXICouU5l5LObYFWb4r\n",
       "dZJ55EMBU9X7llt+ciEE/G/uIrai6cLRKbchj9ULiI8yBsOu51YBpaKjY9Lwyj9+1SA834Se3+Yl\n",
       "aH5FOYyIe+vDIDXcnPYaOpx2+wYL8K/7GVUdDzIYcXaNs5dEfl/eV+J5edZEVJcKpfpvKXyrU+T/\n",
       "k3cOWE8LWkwHC7vhY3nZJ9xtdWZAvONxYJXO9dukSkitkm8Dtkvn9ZlfxXSF2c5sdgMZK1t7h6X4\n",
       "/5PRouGT+i8P76XeFmGT7234/8329ArPfM3TY/FXyCzVhW4awgfFfOSGUvK6/NrzVozIC6U/uvnC\n",
       "mehrn4SBBhAzG7dU2zawScHkCf7CkPdI2Ggm9iFlvYWaTiMB3QB3qUqbbEj5/syibio/4RtWw9k0\n",
       "CveD7SJlaIg/Xn0t3b0Q0gt2w1BB4xkddFx7lXs3WQB4+qQMf8y/VQEVhiOixykd77vlNkCIIaBU\n",
       "bjzWJeyWunIVNMcp4JhcIUkWw4P47oyddoBA+ThlZn/VHqFmI6NFBjM33UVEnqJm2VYq9OkxmNgQ\n",
       "rKedkoWCPfvj0gj6Y+5M7WPqgYvmo4WGVWMXXBvZj76OoP3yF6vYbnH76ad4+hIfYB6fkmt/aIgn\n",
       "SqBBJNFVwuXqhFS4bEC1In5g1+pHdWdTzdOAY39MN8b4zDRu5f8cJJHecRQAAAMAESvoaSlUACFh\n",
       "AAAEKkGaY0nhDyZTAh///qmWAABZuFvwjlYgAXSiJXTxthsJ/1X4+Jm4SxoFUbonVQHnpRGrXSGf\n",
       "2jVz3cpWNNqs+DV+uhfgHAllx86ZFfjsmA7iygu4bPdvlVhWzl8qYi6jpuxKJ1HqSVZFUez+qYW7\n",
       "QkjvSF7L3ZuMwFfB58yybDTcg3CxUNrZkmFABhf6Bg4jemb8XXTwbZ9u9HoZGRe7krgE0KrS0GHF\n",
       "AmdEsUxgfIhcOBv3xII5VWQJ2ZxzeaQOgV5yU5qzjEGEHSo4F+jkWnpQ4G0EcP/+/tLWdHL8W5Pa\n",
       "Uq/Cwzcj23phSzW5akDTfYK6w2OpE0+Ru9P1fKoDjTDylu5FPESqfdV64aqI7VyTU6tvr8FSkL7/\n",
       "TDJqZGDhr7+FrPDPncfgDMch5lSU8rPLUncmyg2TsfyVOQ/2knDtQstJ/WOdZDVNYwp8efn0C4vV\n",
       "4bK2mFw22n/Evu8ByH4UqRdrKyiBPvmhjSkEBGpbYyqOObpTXS8vdHE8vVmqEi4RzahOxuQlU3tq\n",
       "agO/A8TqrQCj1GqnFIEUDJUjrOntodvXoSL7Y638wvi9PY5Bb7go/Rw81/9eqRKfJlLoItWupM5i\n",
       "0zmsS1s75pHJKCoSsFThAPqn9JiKsJ12z5hSDzCuOVYWoGKSoZl/f3bOX/SxUppIs1iGqgD7xgD0\n",
       "9x3Q//6uAA2/rkQvKP48ZD04WNULdx11Bmyc0RU6A7K8CLyed7Orj3jkW50kqLICbN9R1ViiZWDv\n",
       "3ChVqiRB7uOAGFiIVIAiYKo5KB2ulEdSY8xif/AKr0n5QDu3AxDyHL9Kxn2e+x/hOsir+QCj+YXc\n",
       "Lmge8Yzi9TzrCq2YgAna4GhI/cMl/mJbWb9RC6TG52lqaVl24jcGnx0cToPqy2QpK4MTlMDI9Bfx\n",
       "DudpOiC4wMLL1cHGBMBgEIYYNrTVmPMbhXpuwAKlgvnUcSsx2NtcUg3gabPJBYT+MRsSk+L43EQR\n",
       "O0O/0b7HCdJwqgK87a82h/cvyBIKj9dlZkaxIR1P4MellsBo8wt6A7A0XMg8U6/tzIREtCH5GD/n\n",
       "AJMWqX1opZlHsYguhwCKldsZgCeOvjK2kVPPlTxlkKIAucsbIhZyH1D+sm2KeZG0OL6ODEFAIVW7\n",
       "N3lO2rgmTo98I16gSPjAZYya/AEZEYmfAEa32B7itS5QHNgIjDDP0df6NbhOKm9pA0bK5DBAJddO\n",
       "YF8zqDgg8G9Mxu6qsqgckURtGv9ZUiAKPjsA7XbhqTtXN/eB1AAHXrxoOfbCbV2yorZdu/74xAG6\n",
       "B2NRbvfM2ukY9RF2Kx9eHJguRD3BE3DMAOUMynYBqbuUBAiWaLKCp99AYr0oZi7wVzOUa6ELMfxO\n",
       "5jyNo6KGQXccay9QtCfZULeoxcxQ+/rhxaSkAAMPEK5MOQT/hN8lunhAAUEAAAJoQZqESeEPJlMC\n",
       "H//+qZYAANVs/+EcrEACdbTryWJGVRYEtY7lQMm+0hbGI61VM4xvNmKKdPQlKkWXSLo1E1rWqWDM\n",
       "I94Woh+47dC+TGSKokZ+C/ohAOeFTvqTCMUMp8Z5tBrU9HTMw9/gfA23utNAX1TM1q4QghGUPPkb\n",
       "chzM47CuavE7wIHo/cJKPsZrDcCh9XgGxSjRtYjGnvaIFDWi8POeejcG7DUqyryTbI6k0cTXx1hG\n",
       "SiMypPP3uvzwarLlerFkZOivFJipCX9L6JjcvaXLP9/nBSmHlFXESPk4Jvwn4H8ikBygzfhMZZaY\n",
       "k0CGnctGabB8ugfRB9j3/IzRotBmUKJCB6qURtubazEp48GLAjLL0GXpYZuqVN49WLVJC+3hiDTw\n",
       "L/jio+dNvGeEAHoZ9AxUT3f3TaH8xUkyLG9HWgKT7CbeNaNP3O7GCFPW6bAT1X5EMULGrJoEvBLi\n",
       "ZuO6BpWyhFCLSGrPYtvRoek40yjN183T5FuXGSyYjOQmsUcxETWWmJ6yq9DmtYHLrW+/vOXQa/A5\n",
       "YNTll7Q2A8P/jaLNRR7zc4HpRZBpwp1LcrPkM8inAk2Er2LPEDXX7XRnePNBcviOazlkPRGub5eg\n",
       "pt4hEWPzaWGJt9LgUEVL97usZA78/LQRHpZ9M+6LWswSJiGOrIQIx1fGdOhvcy5WwK4fbdlBt2I0\n",
       "cK4HtG4dD6UmsRRateX6z3Dx3qAA3tr9SsdVb3mF76e70y9zQyhv6pdvf/cKht8WjgiTNeCupJa0\n",
       "9NyHp2VHjqQ1ThanY6oklfAtyCJidq2fRjSrqRz08AALfVQg4QAAAp9BmqVJ4Q8mUwIIf/6qVQAA\n",
       "er+rn+CUh7gsun8h+fsfH2lQ4fArYetyn8S8AnBgdUV/cOoewDF7bJUC3OnEZyhQroPsAW6s/WsT\n",
       "PUfS/az78E472uxbvUwvt5C8D8cOeyAgH/CO3Wq6GLxddGLxDSJgGJTu5cKsPxaJ2T+e12J0e6dv\n",
       "ghj0Mxl7eu/fFLzD3rq87Ags1esosJHZ4zV7nOB6Ds45GYNhXPSiichDNQTYNo26oTiKY8AuNfZi\n",
       "DS/7CS81GHo56vbgGIA88C4XItAoMHyPWl082WcCtV+BGQ78fRz2Gz5x/OiezBMXJFh51NT/OvKq\n",
       "mLzdDy+T228LgBki5DEzcH6sVpi9I9gqyjJltm309bzII+AkSj6c7ja8y5piOFOozf5rCUifAd2Z\n",
       "iVJkxZV8JMFEluc5g8V90FQO7vDTsHs46ftQNYN8yKfS+9YlqCNEwEfcl+IwRNrfkuHhJFlwLKRb\n",
       "hTQ1+ez20JdhjOQqlHTNsW4JUhb43yQzd017IB7OVTCDDg2ZhABRO6TaTLg045xhdlrNKhZgRDWM\n",
       "j2hQ9Y8A2hCtTBVVBPohqjqxRQYwrhMZobJZeGZtEgOPdbktFn/2afP0DWrAmCRg7pNLJIH/Skzo\n",
       "07A+oUtoq7AAvg6d7XU660uudYfAmPzCu4DvXAg5TdO7GbX8sauLBtTb1Blh1g2ALlMzeQaLjLsW\n",
       "b/aFkq6lXFySHFyvAqp/64JMITwyYL+kxpqnjhD7zvVi70N+ldOcYzR+DZWrYt70lh3QLpu8Lz3A\n",
       "GK584xJL43IWkJY2d5Qf5+7V/wjkhkyxAWmBAPA9v7IIkFRFVwiPTQuEbYfNEWkBK8eYzxYnXMUZ\n",
       "ITb8wTD4YDIPF4LNwK/cbLIrEAJdtde5TwhHwQAAAcJBmsZJ4Q8mUwIIf/6qVQABCJ/T8Apo+c1O\n",
       "AJx12mjAAhG5+EalMAnvKV6udZx+90GknjBjYuH+bQCXR8ioy7GgTmcirUXplVFRC+UstJhqTxoN\n",
       "t9H5Wfpy9Gkq55Sk5oi83frE3+Uho/4LhznEzQevvaAnjbVbT+YlsN+gBl47/uOASNtxHYDnO5xO\n",
       "BpM+q2ZaijEbKha0p/G8Bg7i5qMBbA6Z4YEIUxTr8dDDoOLaUnrZOjr3LUEC4Uxp4NdTSqTmxFvV\n",
       "s4pvHnNMkv+TBgIStXcQwNJ0X9sa/5nQQAc5bkYSxfVfSvj/t0ZrqAa6Y1SefcQBRYbOVFp1T1Zf\n",
       "lEWDSJkFeEXFCVezfV09u3SWEZSQgMlwSTfsWDUm1NC6KWUsDKETLhnRAFSWXglWXuuf6W06HmYm\n",
       "ASnOZ07oRkZvhb+L3u1TMvny7gDIAbQchoFBoF970JK8k7Sm6KSCzPXpDqttdam8NmZwFHeMJvKC\n",
       "4vXB9nURLMKBA+J+K7ZZ49rZei750KsGhqz8E7ma3i1M8UPwPOl9cd8ovU4GVHhNiR39XPf/leih\n",
       "wUWrRB4WyJ4ad9/MVKj/P2mTcXrODwkeEQ8AAAFRQZrnSeEPJlMCCH/+qlUAAkCSARxsnwUmXzdd\n",
       "s9gXCtB4ao1Cijv2mZwfJ+ioOt9d0ngUEQFssRe2sg6ecj6Pr9ZpGDlLzVvVwX6JYBURdRrAxuWt\n",
       "10RLr6JbZVvEIldVx4k2gZkYYWhj3awBfB8twlN+fD6mCfxrfqw2UZ3BC0I2PbK9aiLscJHS4wnr\n",
       "37pBFTBns87B5QIQ7IY459I80LgxhmEs54TBSclX+OCaY5pLEXgBt22/ikIGZS3OKvIbddtSPR1p\n",
       "0ebUkVh84dg+2CJAVLpEXe5kmc08pfJWLdkPDhiszZfgbIt5m+2YaJX1HNvLLf70/uOD7YkCOVCq\n",
       "KhYOXtNM4/0gGGIYyccpd6CWQ5+1xUCgY5fTroD02DL+LCS9MOaSs8+nvEmZfMj9KNcykKnqoXOY\n",
       "li6Y1qvQSU4W8bEBZXo/5QV0VpzpYeEVsQAAAYJBmwhJ4Q8mUwII//61KoABMG8G4AO0vTJniHU4\n",
       "dx8Z4T2iuia5EoUdJyoF/svwvGOedpc9Bn2tDcmomg93xYfVRwZ0zVlTAB+BHfadsKjLs5mx6vGF\n",
       "2RwMUVzTSHESu1oCYsZpRR0gSZnrnZA+QSI9OeluLqnEWrGZ4qA3itUuvrmnhzu/uuhJ6YoXCFVg\n",
       "Dxx+L1p0PMdd8NlEsde8Yg/ieE+3wQhRDPbTsEmYOzSlAZrsWXizpq9sJoYqyydj3k1XK0z18sQU\n",
       "6s3x42TQpDnk6zyYKzzRBgF9DyweLZwrBZQt6c6A3um6t/rRTbOOXzrLED8WPm2cGMEekFi1B5ns\n",
       "s44szO6B06c7+dYOx72Ca6ciBCmxaVdcbI6N3KoGqx9G24SoOSFdl3EYpzZxWnHYnh7+1GMpU+WQ\n",
       "uyzINFf/zDibO4MO4OTB1AwlIk20odKs4LrP39T5GR+UldtBqnuEHrvGoE+bwcAs3vMHxr1jud+Q\n",
       "fFDWKKEU/CGxVMt4zSLtYAAABSdBmyxJ4Q8mUwII//61KoACpk/SABOtvuyfK6DLYMc2Rjsk6GZv\n",
       "YbLgANU1sil/DZ6uFjr10raVKt3b2c/wc+gMVwzlXUew8lBOXUDnIvxT1kALcSloiN9+ZU+R6hm2\n",
       "ObgWwo3eay6dMO8p9IQ7ZsCs0J60Plt9loa0quqZEz9E2tMGw2QFpzzhd8+Q3w+l1wdcyGzEf9/r\n",
       "1lhfs/O8hChVMjzPe9m+DXLkOkuf1s3zE64SwfxbVM4Cps4rqxnAl1dgdKVjivL1eqH5f5dJPSNF\n",
       "3fwO/P1DUhKgYBXOEysnl60vxgtxCdFp7TogNuvRajUiCc0DUtRIFo2XgikiZKTXd2afj6MgT4gR\n",
       "dFjhq21bWveHk0+P23avUoANdewVTMvs6IYS+AQ/+5qVWdyQKZD/L+VyoTmkb0ssjbp2Sx5yiZ99\n",
       "ZjYAY1pLAsy/rHr/2ArAkfnoUYU03GX7YwdbShoK/GW1uktkfxV12zrhBFdtTtuGIF2CJCG6/bbY\n",
       "ND5ED+mLay0NB5/WsDz5oPH0a+RvOIZjWMN8KbWe6CtW9WwmPaFOSa+GJs/b9kRuMU2ToAb53d3v\n",
       "EgB8mpRdpeT7Tzf3w9SYDFhj0WMH9npSKODEMLfj9hyV3PVMThnw3apz1aNmmVdeuUdkCeYagtoe\n",
       "ApdQGVWruLoNL8/4p6U0di5StGp+Dj0vt+cEiR1LMps3NJ7t6yDZxtMQQG5ChyAhKLk3tYtcEX4J\n",
       "5krKU8qD8PpDA4o+UvQyJdtDIvQwZL8n5XHvf4XFsRZ3DhL/Ps5uwmWyrn+Wy8Apy4lpCqPKMQn/\n",
       "E4ru9cSPpDgq14O3prR94imZfj9KgnpJ8YbWM54IzKdhw8m5taxvZogvuUvShuCVCxg0SJno2rlh\n",
       "MT/76kbomXSUWecYzsr1gTklxSzAe9V6S2F0SuySX2mRcjwrzd283Ne77MmpIk1+nu7vM88iTRwK\n",
       "29KvA3iUTsdv8VnfUb1KhfjmrG0qulrrUAJGe5jqHjdhoocsyC5RZdbI4RqWwo6el/sXtfjvAVgQ\n",
       "lL01cwmChY+jwE5hKuss0Lk2ojY+oAY7X+bQHIk+TFtLcCsNyqbt+er+JRDAEhlHo62A/z5Is1A6\n",
       "XNRHbcT5upR0tPfrkUQ4k2adt+KW5wPKaRgP8Ueo75NSijQyqm5BbFBkCWKbgKTchmlFoDdJW74r\n",
       "7rXHWZ+2eOoylFN+YSPIAsI2TiIJox81Eya8OU4/eUz97iUiX68Oqg/JhoTUYCTXDrROOA5eiLIR\n",
       "crABvSvNB7u5cki1Nct5G+Yf6BRYT5ko8MJWhSzEshjnVxj3WyOE3Ru5TKhH1vt5HQhFzvitE/yh\n",
       "v+f6eQOH0Pq7RkezfZKBHJmzZ/Mi9Qza+H2eC7O05qTNmOma37FL190+kJL5e2arRl2aZAjDJMYh\n",
       "Q/ScXL6XhadcrCwKQ5S3gCtaORaMfoZBNpWQ4vKFfejqKtZzTwmfYc8MLVP0jpFgKB3iGt/kJbMM\n",
       "GOefUzlszMnPtYKGdL4fgDsz3OtwvdmXBnXF/ES7X5IOkSGEzu2DI8266tnfngk+EvG3UURDx9jz\n",
       "r9sncIVlLCrJNeInOYwd3K1YEvLvK4WqVZdfiM90IGfKUoQgPdfCLj/C+3Erk/IaAc8i1AltAQ7s\n",
       "0b4nKCCzHMlD5NfHOUTA1KpU7WGofnyIzew8l4c8vaRQFtN+smZNMfQ9uNH4lHPtQdV6HTvpeLax\n",
       "+R2g2O1moCj8Xh6AWamtUxcFV8b45gj4cWwN6AAAAolBn0pFETw7/wAKUq9ebkbAA2q6AXyb7ugZ\n",
       "Z6MxNXrSoXzaBr8NjZjS9dYQ5uPR2YzzLduHo6iPJaetitEiAm5aukecKOlt/YMy41lWlpXUzhNO\n",
       "6fZIWsfXN2ZpBGX1rALHffGxmezkghIzbhBs0B8RMX8eiAeo8MTtDYLZeXt/Kr9NW48jm9wWvPhl\n",
       "uO3CfYYZaFhb+aTVLNXwQiaQf/rw53ijdzGqc6D6XjKtWb9O2JqbgHJMdqPcONzT9tAHEbHJmpci\n",
       "R0NOPWSquai+R0H7Mq7PBrRWQMyt+ZPiUccahOceVw3dqZA98eOM9AItctaCbdbSMQWYrLfGPb3J\n",
       "/jOHdO0lrqwX8vi0l/x/hz30jOf5q8d+9CmRmw+9tQcIHeNl9/vBMlB0PnbcPNJRvkBMKuaf0dIK\n",
       "TdhdzvOhTUS70Lc2XabhjiJF1VajNk9LbZRMx5jTh/1B6u4Ys61oThFCsjjbPNlDiVxLJ5fqU5LW\n",
       "/zCr/PeGShQ7FOL+jmiWlczoLxbW7+hFggl0FgBjGoSbGpeiMLskp+jrQc4wmBkuNT6l+pwnd1ag\n",
       "MKjnLcfKEjDbRgwQvRii1C6JdZajmyQfVMm6F4L71Y4SYcspkwpgreeuDtlzh5+EaFioaNESrbAe\n",
       "hqX92zTywtpX7CaTI8/GA3XAntFcotzznm9jSWjyEN5Fm3SE3argFrWdvRgF4lpDtCEN1t9Owt9s\n",
       "92Z9DAYwPfFBZTwnXOl8cMMpThb5iFY3OpcGG779lhCvdtgG0DojJmOFpoerQQ3UPMtUc4iKdfgm\n",
       "bx11O3JrHrhe39+/YNQFZk73OdIpIeM0ztINsmlsKhe0vd7Dw70zCR0jCQDqFgcXbtw0YJOBAAAA\n",
       "0wGfaXRDfwAPuqp4eiXVazDaIDxRcjGIbaADaT8zOwAJCz0uF/fpOOJdtqA8c+b3RUTUZtjS0v4w\n",
       "p+GLbdV15SUF4RS/8Uf6BZ3agkNjEuJ1UfbfzL6A3y4tsvD16yO89orBWWAKi1OKvwHEBS/sIfMj\n",
       "p6zaVZFkbgP7Y4SzYTfVCjJXM1cU/M6u44hH9mQcvoVepwIg8dtZxYM38jeUshmfOogVdtSbg551\n",
       "dD4E+xuRoUkZEssCYiWAGDXqgy9vanrIrupy+XzwrH7ZaaQeWZeACbgAAAIHAZ9rakN/AA+6qobE\n",
       "z/Y8AG1RLvheQdWQjvrsgluwlZSGXVRTNJHz/ZiCIm6/Ej6LOKR+wKkJyq+6j41v8sTxVVtDNk/p\n",
       "SHTu9i+lrGziLeDbqlKuFsRhfuICU3dzSvCa1GkaS4Sq2mkMh3R+DJmc3GATy5zMHV0J+vGAi6/C\n",
       "+jg8QnJVP8iJmb0J7Ld7Hahg2gN9X02rSSPbnhclTyoYM0rYihMnXjOk2WZl8bY5uQtfljZ5PtrH\n",
       "B81w4WN+KP631FroZ3wW37Anmm1KUqiI2eEFQURy22xpUsd7xGcvuQVtxQ2MUYcRZUn9xX2F+F1V\n",
       "icW/kGyvSHNB366yuax9eXwhB1NvjVCJf7Yk4qOIm8nnbCW6DBf0XybIG8Z5wsCvzScZsBwReJpY\n",
       "QXqhcWDHdA9TvJZ8CK5GIOh726jGK5iCf6jX622u8/h1tbzabs1hmTaG1vY+gsJDWezryHnmhjDG\n",
       "0tmIDmRF+acX6Tznlq1wDabzVjqqi105TTAIhp2+TQMqmX/JbvRpKZWhvOXkwW6ng5sxWVV9+vpf\n",
       "h8fVEB80wEqxhq66ij31h94cpCjzcQcFprvMmIQiCAbM12lW68r//Y76LNg39s57iBIEU/fGyniZ\n",
       "k5n35Xtaeb+uVRakbUZZ87drHIMvIoO5hDv320KqnDrcAE8sko9hJK724jpJTQFgQIM+AAAEGkGb\n",
       "cEmoQWiZTAgh//6qVQAFk8fAAFh+fA1QYiL6b7RT1Nof6xlVs9jDMNlfyTO9yCr+CTlfOj/sdPM8\n",
       "9+hr5YdlI7+JKVaofKo/sMc3sabt/oWogaKHc9f8BR/V67E1UTmcE/SRlfQve8X8dWla3m9HLq7D\n",
       "jM2FxHQeVKz/L8wc9tbmvujEWD0vyFilqLCAceSKrLkIzdqNkWH0lCg9YlftMb+FOUOeNur8B8cn\n",
       "LqJjF3emPZb75U1a6vJmwUJ2TO7mBqsPvCasX8soWHBobD2Dehsp5S2OOpXLIgIr1cmfX/l9nGfL\n",
       "YSXF0cm1js/7Grh0ZE2gGegaX1t9oobT3GbdTXI8OlPP6DKEKa+m9dNOEgVYYUH66c87n2gjpp+v\n",
       "vqUonAQ2nHQdThEcMP4bZO/jjqe+EUm/AyvXBfGVdfs6IG5wB/IgoNE8GikvAUKKAE2ItU5bg/4e\n",
       "d2yViZHy8yRF8fmKqc1KvjFElH6nQ+XWi6dbsEEFBTex04GDpnC5bIgPA1UxvHB/AV28jYFhNVeO\n",
       "pcbZ7KU9WkdL4mzdxdZnKHH5q1xxmfmKu+NCFNsvZpYf7fMxk1TNuDXk9t/NdIX/ir7CwUSa00BL\n",
       "mIdUNW3BihmgQ0vwuRacxUvkXw8lZWOzHzkFyp+59hBUg7x1NXXtYMfICxVwFhKoGpM+0JA9Fl4O\n",
       "ofe1YKBn5W6IrMAq4KaHmY1nb8oeL9YQ9nfOKIWk7nv3S97oPIQba+Ee1SmG0oW43vws49hXq6eY\n",
       "z8HVm6UVkbHd4Z43XvtU3pK1HY3ebTSt6oIMinwbfIKs0nZyBCwUkF/AWCaPF9H0yEPSvQIP/HvQ\n",
       "L0qqLU28CLghCCM5d2D0VAD9u8IOwq4MVQoLeDljzro8b/AJX2WtQTrPH5uKgzpqNhCA0F7zlM8O\n",
       "U1lKWZC+fmHXLaAXv9vUTf0eV7U1QuZqKIw362QyQUK3RtMJO7I+aQeW1nsphuwC85z7dxBQa2fx\n",
       "Tq9dR3/AaIGbegCBnWtsoQMdi2QqK9q+e5fc+TDhacqAU/RVDQE+Zx8n8KVSLwOzKm0yctZ4dIdf\n",
       "asULB3vtx2TOMHjJg7pBp2uqNbKaeiYRRMTyx028dd+tp0j+0OfVi6wuJoE/92FPy2GUsT7x8xHK\n",
       "9b/H5BY6qx4umJ+xBVgROi44Qkaqgxo79YxLQGSNDZQr+LpbAVwDy0AtArJgzqrZzmcecTHKtJsV\n",
       "Ihct40iHoH77V2ijwAlWQCTPIVojcB9O9Lozw9v5hTp/8onk8hq0iwpRSRoZnXs5g+uOBzFxOuj7\n",
       "Isewz28p8JJDYLh1xJeH49wKglC+8gF06PijJ7wzTHt+p75JVVX4Uk/wL3Q3bPa2J8rhHvT2s9AX\n",
       "8D/EFHETKocwySlCy4JDtRk+wj7J4QAAAiRBn45FESw7/wALVjCMV3nXYAQnWIvOoTgVqTN76VyM\n",
       "AL1vAJ+XIH86Ret2iltY7XhTrD7grwhz3bmAFqhveLxSfD2z7yoUW3dtOEoCVb5wyNJX2f3U68ch\n",
       "4IluTR/ZS44S/FpWC/Yof7bYQ+/U2BK512MYWfjaPBbO3cqUKCMAAl2Ym7K7cBLPYaU0yKb60aU8\n",
       "eDMxsH7xpivwRVtrvwgE/3bR9co/9Fs7/iebt50NabTnudx6LFJbB0XMC19CLMx5sNLot7zgeNu6\n",
       "jYEgKkqBkp3xC1RERMRifvwGf0mOXixIUQjAv3l3hpf9o6tcBC77J1R+u5yxJubN245WSemXzga4\n",
       "25kky8+L20Wdj8RwmNReRNfXtapcJu2DewfTzUPWu9xEqsdUS5Gf5z/fRla7zVtMqiL/xy9C1PQP\n",
       "7oRKQEf1urIgRaDmVIcBs/v3amsW0qLR83ljr5gUItue6vhQb6g9S3pBdnsmwQWtHD7H5u/vTDQe\n",
       "WnJ2H6vuG8T3GX/B18ptPsIehc3fV4Rt7J/505lJ6GWLBMToqUyMk8tpcnvTDnvUgdangLjIFoIq\n",
       "k4Nmcu0F4koAt5n5MFlAU42UHF35kh0KFOnzMe7vmMu63F15UETcFpCN5H6zPtW6KF0w8pCxujwq\n",
       "KYoI4J/4mkU0GWhlHU9B83P6Ap7DBbPYjl4EKDgq63NEiNHh+yRQH+jpJ4ab8fB3FDdEa72strdd\n",
       "UMAGdQAAAa8Bn610Q38ADtoC5ACaveZyfK5/dTemR5+ID10U2ODu/UCK8nrsyyO51MuRs/DoGGgm\n",
       "uD+mBSAKus8+v9ZaP9DuiGkBkKwzW0R+JjcHbum4tCqEG2gDgVH+/g6Bfw6ItMcD2QK0vmuIxzAo\n",
       "5Vt5y1qEN3Str8sFXCNSqFXhiaaPWPqNFsga5NmPot+emqmUG7sgiFacbyeq53fGsCrhIoY3hprP\n",
       "SVZfDjKgeMijoRnGQK50IR1sARCfPo+kUTzR+wOqZ3QesebqRiApiQmnnxdSNkElcYKnAzJDkX4W\n",
       "qohHGnpaFw6RrZqB8w+2obtV4kW376E+EF5a4y+RqnrxzloVlC1RY6X5bWg1ccRYTdWpoaxp6dzu\n",
       "7ZhYPhxlt6fbBMQBiZjOfNqyYiphjf5SqHmoWTDzaVrmJkbO1tyj8ufGmvRUIhEb2ifn4t7aUHoH\n",
       "XaxIJxi7hH9jBaxSD0YMQzg9aiecKG4QAhuUS00B1sW5YGyTYMfrdAEJcazIUewWodknryqYJzAc\n",
       "jtHktNWpeUNI9gHZURyLIOiTxSNrsjLE+PSnfjVLVeuar4SPCsAfMQAAAVcBn69qQ38ADzE/fkTD\n",
       "qAWADafylWF6mCfIPURndufzcVORPOeikkfCCKXCNZzRC2pqaZ5S+Yb4pY+tVv1rrtpbhdejpW9N\n",
       "dzPiY0W4OUctM5aBMnp40dPHdlHijiwR5NqlilbQYi/BaRuf0UUP0ir0fC7hS80kB2sMMAvlyApj\n",
       "GgdRiyeotlqoYNKhTc8lRG8yN9QCTfEhVnpofkv/lJVuCrECpPHHw9HYqXEhjvBc8N+qYHJHy38m\n",
       "a0YRqXnOM3KY2rNS9QKeJI7JtORVkRRf5RHSmhdZA/Gd/FtCpT/qMGQxejiP+VAKizCYGKhbvmGf\n",
       "/e6X1iwyoceV/8rrNIsXdVkmyXbwtpHfV0Uc4xBJUr+uluhY0VMuUUv9JGjrwFszOW3L8WuF4i/N\n",
       "1a+ndz59ryy7rrzzdEiHd+uuqwNO7+e+ZU5oHFc+q2C3ra3N0T1A53tHfgpIAAAElkGbtEmoQWyZ\n",
       "TAh///6plgArddv2sBRwA5aIM/zMuEm0vycq9hmbjWkFQ2fYqOoGdYLx0cjDl3cTI6db0eTeYzr+\n",
       "lk+JXtzwdoLI4qo67ig0aDySsuYLS/oSDmiAj119wH8pIx5KaiofzojGesYOMc8WtGQkOnMPRveT\n",
       "yL2lcPgE3Xa+M0bG1ZUUwtHfWkG7KD5s0ZyvtyLKMUzrwYjWUEiPYSiBCO+dFI/MdjBn7CUDChQg\n",
       "Oej37KJdDUcFHHDU7xmItkBQ4Z33YySp2Il4PVwyAnxi/LEwFhvYPe3q/mYD/C7lARSHIBJNVd0W\n",
       "wUS6wSNXl/e0tVUFA6thDWCL8acqjclTzlSIxfBC2i/v8fgGafCN9iNy6XnQtFsegzV1y08huIJB\n",
       "9sdmUwKfmXtCSooFT6jvQQl+EFDUfMQOlK3tz7DhxTPOUdkmBw5BVlQTl/hIteTjbXkJS4aYbpb7\n",
       "1CWDaZeFnbr+eMlgzyePPBP6NXrWVUlJuKUXun/JEFpnBVaH0MHi5xaAll6WAk+5g+kt1cU+5kVk\n",
       "SIfpC2lFAI96j4yyBm08GiUCyESlwnlI5f82vX9iVD9w5Mmh7cQ03fVz+2N6WoN6A1QO0ewJ0nSd\n",
       "1YVbiJoKUhIyFPC/cfMEc0dso05x/eOWX6AZlFMSzjZm6wwkWkVNjBk6yEGuQhBZ/rsthNapySiP\n",
       "y90zUQWVswRKtPHTxUGsTPpSvVADdaelltyWoJQWjh2A52GM4evGbV5FC65RuhFFlMl0I0FMJb+z\n",
       "kPB3sumRX3YOLwHcOKMYOB5DEE8lcJbb2a4YWb3TyJMJRtdgiWZqfmfPpeRv9EblyhQ1JkFcs8pp\n",
       "QJhxd9YHp/vm9YJo82mqluNvPMbf5opUhYc+xrsEWm5aebG8RVDgc9yaPiEKJVm0SZAhRuFgcDp+\n",
       "46a4OfICCyvdl3LIhMURDPxNG2rGDC8fuLlqU2BHV6sQAlsvhkRGXdqJ2FXsRCQRkuae5tS4fD4e\n",
       "aFPkvk/UDUho1Vi4zLS0MzLxuRXxdiGHMY6TJmKKIkqVNsk4vpOi9jCBps3TE9ybgie1FV1vk/Cj\n",
       "IqL4q44VIDs82sz6gtMgGpOoSPQeX2MiwcK24qKFUsb5o3WM3RtiKV7du0bHq2PmELmrlWaF7bC6\n",
       "6rEvtkPVNYHxst7ENBDlfpY2iZd4WPFcyibJLKUOS1mSPrD0/CUjg5BMVjHp1CXr8Ag6B65N+GTr\n",
       "GKLGohUN/0UBHe3NAWwLqb1CeBHvTwmNGIJf3Bl793yARmIuRq+7x4On8hL5dUmJcItCu5Mz9GHo\n",
       "zAbyPFDl5CjhN/pjFljOSd8LNW5Q7eGCRFRNcp+r5H1UvjopRLXJgeY/OR6E/YOwp6ULUN+SQPm9\n",
       "wkBCdM69Qfs7exnxWgTNRIgnFZBsF/3IcS8vLZgQy+O08TXu1Qb9QiFGPNBoqO3Zto/dPfWvY4V0\n",
       "ERUTsF340pMqBJ1VIlHRBnQ1oUAKvcZW7kQ6xaQvMvtsN1ipiHPNgg0bJxdyBUVv0BL14HQWqSdu\n",
       "R3QhXxv3x8glb9WEfodVpNYhVVhMTrz5WNQAAAE+QZ/SRRUsO/8AFX8taNqWgA2fMlJYENMczOv+\n",
       "P0qQ7t/U2hgDncfOK0cU5fm6IkF/UZ0AlD5WH2SVBrxjp+kPZxKToQlr1aG2wFVIqNyrKDvZYf25\n",
       "jJtfBE3QJ+2aXyAjULYH0FwF8govh1sxdi1v0hldgkg4kIFSz5e/6n9LHm7+i7j6NT7R01NzDbJR\n",
       "o+tlgozwQp31j8uAUbXSmL0kRSu8r3g2hIgRMYP2UphCNKjogkksJlBJ5tCzX4HTA40EmyuTecYd\n",
       "WRnBXNhICmOQaynYHNSaAXQ5TB3bN+y1UAUfhnTFZNftLqpimp4PT+mwaQKwqDrS+jdRHnyGIOES\n",
       "YrL91hSE+KdIThhKE9DHZytzI4eYU9jdnwOu+F+n6IdqnJfa+/+ehNtPjirpXd45mbubhDkJQ3Yo\n",
       "RfkgAFlBAAAA7QGf8XRDfwAeY9xcuDrTQQARAaYT3XGhw91c5UyjEtCinrsD2QSoZ0OPT+QXKIPK\n",
       "2y4HHb5c4FFtvyr240a6EKgEoXC4oCqN1HEiOeD89e3KWfq7WESFwC1u+//dkcWuF6wl3Ic9xA5P\n",
       "qqbLs3VSsb8vjvhk53JkaEVZc685V27odQs3hH/73iUJUm9LjEPrATz/QqhzFZrp0bJZPXLbi5DY\n",
       "LsdfUpuSQvEue3/uN6lWn6Z2P9zDgmTyTnRNoMFKzhuKHjgrTlb4MRD3K5cZjs+HoNw7YjZrKdmS\n",
       "P6fzRIGINEjcY2q4wuMp4IAS8AAAALUBn/NqQ38AHm+5ABtRsf9IoPaAyn4NwBmLgrppaS3kjQG6\n",
       "v08AAJVFyNmbJ/p/Nuu21n+LKmwXR+fG5NYpDd3hsIfZESdoAWB1UqFHyrxnu7VV3a2t7qEf6fqq\n",
       "slzChvd9btB5+vkoDiXqGK0FfVR6K3tr8s38hiFqRcTdM2KgvIo/+gKOeqE343xvk3/+gvjMqPKg\n",
       "CyrbLudtNIO+JZ7+t2YuHG8aHunOhJ+FW/IBIDb9AAh4AAABnUGb9UmoQWyZTAgh//6qVQALKx9q\n",
       "AAVqkdYpIQWOnwOXWK8P5II3aNc9aBpSa2ZCo7WVChvYkBOSoOKGh1ZfOKf0lgUrs7W2cxheg5QU\n",
       "pTqtY6LFh3m3GKCcJlgyIMtStAxuuwoNR9tggyQqm/W6qCXCWZhzrRpI1icutwAEQqKgc3db/OwD\n",
       "vg9+tbYGqiGnLEK7t1A7TTthm7lvI1gRu58hvwCC+43lGqygstGyxyR6YgooIy2hg9KYHBJZJh7N\n",
       "r/afHh4FElQonOuKILfXMdRTfkYDAcOOjKcJnxZdBztdUV5oN7Ur8GtSbp9N2Ap3KgNi/us9Hy16\n",
       "50raTQ+MFi2goyi59sZuxjMyABZ4xOJC00Wp75kYmnOFV3rn8b3i7b44l/whKJFk2JaznWbZMXgB\n",
       "lllq8n6yAQuaaf8tCoDYFRhGc2bGWdKTZ76Ii5uKaffOCSednL09TUnx7r43NoqgAEp4+wrcjCzj\n",
       "+4ixZjs7/eIXDvFl15hbhQoje4obLdYZ0GcFyfdfqKU20wE4av98mSyq1fEwU/GFIs/xAAABZ0Ga\n",
       "FknhClJlMCCH//6qVQALKx9DQAWC0AiEVtNJi0bUQn+TvtkeO1N0p+Z0TlrjBQ8kiF/Y2WAC8//q\n",
       "yPHm0K5Rba9RWmgLqcMYSangd7qpFQ16UivcFo/JhbC/5M0edvwiLsGuXUHht9QNCOabN5lRxJyy\n",
       "IWRX7cd9o2cGzGcl7PjRPF0rZvTtTKNdo+rHsM7b0aJov7WTK0p5T7zRqqF4N7UCW/2FY/NednT/\n",
       "Dafk+Mjbo3JNoiIjQSbroqTXLrUlqsZ0PYiyuLFz4NL/0O6OPzCSxPQ3k7j3jkodPOSvvO2g3P8A\n",
       "ArCEFnoxtAWFXOeyWqlP2UyeaPJUy6wmvbgNk/bq3KlqOPDICt4hHHIwHls3p5tKwHHiTqzNbwPN\n",
       "Hir55IZdNefFr26QAdU33w3u7o0r6trhWKYOeHntjY9gK2g+rhx4pAmIwRR9pZ4ci04JHy7NZaLK\n",
       "4gRPzMThQ2knyBQYRwhTAAABikGaN0nhDomUwIIf/qpVAAsrH1JAAWC0CBprSkr01h83Xjb7j/Z1\n",
       "Dpi5vyMqyW3TMVKdrRx9ngqhpGElNLbqbzLLgrsHdVw99NF0yhL+hmy5Oj4jZRI4RVDgZw0zanx8\n",
       "wf7r6cMj/Hfa9Vlwj4WcMsJMT3GAWpiXDgq0atDgFvkHFD3DI1/UXGN36tzpNMPFabPmXZPViFXt\n",
       "3cdBgj0ZZUA7/V3N3TMCtcSqmgm1isjzAF0xujkvWaGKnuB47P40T/hfsZW3pSfOa9XEgeP5JfbO\n",
       "2cvLgtemZgUa/vRlqtP5F7/t4hANvYfWcgeqQaR0WaZ9534RPfrCow1RorY0icl0uHR9eWb3LJIi\n",
       "6gXgrhKgPTqTdqn7oK1Dtg0vCUh8QUlFNLFJ74oIJQbc2f4RFvz+cIqnFYHBLQgBZI30YUkwDtQc\n",
       "V88Sd2U4Cv7rpG1FzGR5bod4lkB4gwguhQibh3dCpw88KEByg2/aS828UPiQAW3K8AlUBauIsYap\n",
       "sxjD62zUgyoukGGM1X0AAAFlQZpYSeEPJlMCCP/+tSqABZSh1ABE14/4Qvm/T9uYcVXCeE0Pv77o\n",
       "g9PWiz96uor4+kJ8X31ZtWmr6dOSAOCcR0pMSXdliR/FWb8HDU3WK6myiU/yIy2D7XgvStt5gb45\n",
       "UvK+Tu5In9+g/3BNyj5LZZy0eJpDZ5bY3hrz1LXv4txBIiLWwv4wVYj0V1N/zNQFGUGwnPaOZYbo\n",
       "+/La404alT9vPII63kwQ6V3vnSFJHRS8SOZZRSoEfGn5D8SOXcseuGtHuzh6ul9rC9jHh0ghfIkI\n",
       "hTjHy2+VamBRFeFvX/U06HC0KXVFQZKD1teHJn7ntKFbn4d7AYt5oA9/DixQrLj2LEy/o0yLYxPA\n",
       "XIipSL4VPTR/aMIbfFWTnmCvTlJAlLg2nadX12DN0nJ4YCRYbJy5rqtvFZUfnp4KnZwrRbhXsNsV\n",
       "dMPt7PxJoaze+8vxLvk0LmLDsN6n5M8KEjniWtqAAA+ZAAABzUGafEnhDyZTAgj//rUqgAWXaEto\n",
       "AG6Iwmi0995oxw3w3A6Vn9sgRnpuYIQdG+7zS/Elgthl1oW0s/0qaVilpfVPxwCTDm18RLnQR1i6\n",
       "pdeNSHgq9vc9p/s94zJ/W3ok6atm5pqAN1zBXlnQSSz3C4w1PnaDasEQ5jKckk4eGxX2qofgdDld\n",
       "b+3cmApBSxQi2worzkIMI7GFRK3uUVAIIInJ8cRK+UOoDJ/FoWsmyoWeSP4wy31PPYJXERSf+9Zx\n",
       "sOQ1Gm0aiawj9dJeroM++oySVNtCedky+lelaSVqYDnc8y91pWG17NMoYbzQIVo0eZjyWgvRby4d\n",
       "8N5UJpC78TztNJO22hJDbU28VFRCp6oiHnFwTOcTErpndVgYgI6q846WvrZ11Wt33OXw8BqYk8eK\n",
       "O7Ji7HI9z2MA40dsmzPWV/s3CQA18LNL7apdfaUHsHJWjNefYMgB0APVf9RRqiRt9gTNUdIh9hO2\n",
       "ki5bQxSsEiwFjFzNboPZFx+YCXLjoYlWuH+10w/8my7dnAhQf2OEKMy/cVMjoKr1mS22fYKfwwgI\n",
       "nsyr/p77H6nsWz8bwIMVTHGotXTo6A6em0Lz4dIAz5oQZiT0mTwa/amAAAAAKkGemkURPDv/AAu6\n",
       "sKyM+1MdLFNw9bwWs5jH1k3mbg/Rgd8G8wSqZcACDwAAABYBnrl0Q38ACCvsp7oph7RPtKw72gf4\n",
       "AAAAGgGeu2pDfwAQWvZTrcQn/MExQc+qajmIAK2BAAABAkGaoEmoQWiZTAgh//6qVQAFk8fAAEZT\n",
       "H5oMmv7EX7wlzsfsbokdJSPo0WT79pE4N9w/cGiayDGRDfRCViVvx/p36F2ZsFoqN+5PSHnje7r9\n",
       "fyf6bDdZs8xOZwGgeh9eFNhxMOax0eRlT2DKUnYt6aZ4eJdkVvzzbHPjocrhUr4itor/w3P7JbgZ\n",
       "NSS4Lp4R4BSohl0hBAGyyOZh505FR5zdoGPjNQKlBoeMZCX670ue7LWPo1tHeHY2OM9Uh+aOaBWz\n",
       "l2vbvZhv9HvC9m9J1YHBuykToVnbLBFxDANi55ymByKTsdPQXxUnNHqIH71pNHpmtYZWcvMJiHND\n",
       "ZQhf6qlk1QAAAB1Bnt5FESw7/wALu4ZehWTrAu6Cj4eheDvtAABjwAAAABkBnv10Q38AEFfZc2X0\n",
       "e72RvC0bggZr4BswAAAAFQGe/2pDfwAQWvZTra4Tn54lsPSFNQAAAE1BmuRJqEFsmUwIf//+qZYA\n",
       "Ct9jhwAW9VlJczZXPt1Cq6ca9iOU5gTyVXoXJV+kCpkesa+zCqVIqXLoh4iCzZT4H+2mqeUrpjtc\n",
       "gKRWYAAAABpBnwJFFSw7/wALu4YQbC9O5YcB4BlGXsgFfQAAABUBnyF0Q38AEFfZc2XYTB8j2reH\n",
       "QdMAAAAVAZ8jakN/ABBa9lOtrPqHtkqNzIU1AAAAFkGbJ0moQWyZTAhv//6nhAAAAwAAJuEAAAAY\n",
       "QZ9GQhv/ABBcjKyYNbpGOhwRlub+cAr5AAAAFQGfZWkQ3wAQV9lzZdQFT1XRMooHHQAABLdtb292\n",
       "AAAAbG12aGQAAAAAAAAAAAAAAAAAAAPoAAAPoAABAAABAAAAAAAAAAAAAAAAAQAAAAAAAAAAAAAA\n",
       "AAAAAAEAAAAAAAAAAAAAAAAAAEAAAAAAAAAAAAAAAAAAAAAAAAAAAAAAAAAAAAAAAAACAAAD4XRy\n",
       "YWsAAABcdGtoZAAAAAMAAAAAAAAAAAAAAAEAAAAAAAAPoAAAAAAAAAAAAAAAAAAAAAAAAQAAAAAA\n",
       "AAAAAAAAAAAAAAEAAAAAAAAAAAAAAAAAAEAAAAAB9AAAAZAAAAAAACRlZHRzAAAAHGVsc3QAAAAA\n",
       "AAAAAQAAD6AAAAgAAAEAAAAAA1ltZGlhAAAAIG1kaGQAAAAAAAAAAAAAAAAAACgAAACgAFXEAAAA\n",
       "AAAtaGRscgAAAAAAAAAAdmlkZQAAAAAAAAAAAAAAAFZpZGVvSGFuZGxlcgAAAAMEbWluZgAAABR2\n",
       "bWhkAAAAAQAAAAAAAAAAAAAAJGRpbmYAAAAcZHJlZgAAAAAAAAABAAAADHVybCAAAAABAAACxHN0\n",
       "YmwAAAC0c3RzZAAAAAAAAAABAAAApGF2YzEAAAAAAAAAAQAAAAAAAAAAAAAAAAAAAAAB9AGQAEgA\n",
       "AABIAAAAAAAAAAEAAAAAAAAAAAAAAAAAAAAAAAAAAAAAAAAAAAAAAAAAAAAY//8AAAAyYXZjQwFk\n",
       "ABb/4QAZZ2QAFqzZQIAz5+EAAAMAAQAAAwAUDxYtlgEABmjr48siwAAAABx1dWlka2hA8l8kT8W6\n",
       "OaUbzwMj8wAAAAAAAAAYc3R0cwAAAAAAAAABAAAAKAAABAAAAAAUc3RzcwAAAAAAAAABAAAAAQAA\n",
       "APhjdHRzAAAAAAAAAB0AAAAJAAAIAAAAAAEAABQAAAAAAQAACAAAAAABAAAAAAAAAAEAAAQAAAAA\n",
       "AQAAFAAAAAABAAAIAAAAAAEAAAAAAAAAAQAABAAAAAABAAAUAAAAAAEAAAgAAAAAAQAAAAAAAAAB\n",
       "AAAEAAAAAAQAAAgAAAAAAQAAFAAAAAABAAAIAAAAAAEAAAAAAAAAAQAABAAAAAABAAAUAAAAAAEA\n",
       "AAgAAAAAAQAAAAAAAAABAAAEAAAAAAEAABQAAAAAAQAACAAAAAABAAAAAAAAAAEAAAQAAAAAAQAA\n",
       "EAAAAAABAAAIAAAAAAEAAAAAAAAAHHN0c2MAAAAAAAAAAQAAAAEAAAAoAAAAAQAAALRzdHN6AAAA\n",
       "AAAAAAAAAAAoAAAVEgAAAnEAAANCAAAELgAAAmwAAAKjAAABxgAAAVUAAAGGAAAFKwAAAo0AAADX\n",
       "AAACCwAABB4AAAIoAAABswAAAVsAAASaAAABQgAAAPEAAAC5AAABoQAAAWsAAAGOAAABaQAAAdEA\n",
       "AAAuAAAAGgAAAB4AAAEGAAAAIQAAAB0AAAAZAAAAUQAAAB4AAAAZAAAAGQAAABoAAAAcAAAAGQAA\n",
       "ABRzdGNvAAAAAAAAAAEAAAAsAAAAYnVkdGEAAABabWV0YQAAAAAAAAAhaGRscgAAAAAAAAAAbWRp\n",
       "cmFwcGwAAAAAAAAAAAAAAAAtaWxzdAAAACWpdG9vAAAAHWRhdGEAAAABAAAAAExhdmY1Ni4zNi4x\n",
       "MDA=\n",
       "\">\n",
       "  Your browser does not support the video tag.\n",
       "</video>"
      ],
      "text/plain": [
       "<matplotlib.animation.FuncAnimation at 0x1f1bb431d68>"
      ]
     },
     "execution_count": 12,
     "metadata": {},
     "output_type": "execute_result"
    }
   ],
   "source": [
    "fig = plt.figure(dpi=100, figsize=(5, 4))\n",
    "plt.scatter(x,y)\n",
    "line, = plt.plot(x,lin(a_guess,b_guess,x))\n",
    "plt.close()\n",
    "\n",
    "def animate(i):\n",
    "    line.set_ydata(lin(a_guess,b_guess,x))\n",
    "    for i in range(10): upd()\n",
    "    return line,\n",
    "\n",
    "ani = animation.FuncAnimation(fig, animate, np.arange(0, 40), interval=100)\n",
    "ani"
   ]
  },
  {
   "cell_type": "code",
   "execution_count": null,
   "metadata": {
    "collapsed": true
   },
   "outputs": [],
   "source": []
  }
 ],
 "metadata": {
  "kernelspec": {
   "display_name": "Python 3",
   "language": "python",
   "name": "python3"
  },
  "language_info": {
   "codemirror_mode": {
    "name": "ipython",
    "version": 3
   },
   "file_extension": ".py",
   "mimetype": "text/x-python",
   "name": "python",
   "nbconvert_exporter": "python",
   "pygments_lexer": "ipython3",
   "version": "3.5.0"
  },
  "nav_menu": {},
  "toc": {
   "navigate_menu": true,
   "number_sections": true,
   "sideBar": true,
   "threshold": 6,
   "toc_cell": true,
   "toc_section_display": "block",
   "toc_window_display": false
  },
  "widgets": {
   "state": {},
   "version": "1.1.2"
  }
 },
 "nbformat": 4,
 "nbformat_minor": 1
}
